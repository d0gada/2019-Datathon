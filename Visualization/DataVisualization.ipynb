{
  "nbformat": 4,
  "nbformat_minor": 0,
  "metadata": {
    "colab": {
      "name": "DataVisualization.ipynb",
      "provenance": [],
      "collapsed_sections": [],
      "toc_visible": true
    },
    "kernelspec": {
      "name": "python3",
      "display_name": "Python 3"
    }
  },
  "cells": [
    {
      "cell_type": "markdown",
      "metadata": {
        "id": "L4vuEMlLHahN",
        "colab_type": "text"
      },
      "source": [
        "#Data Visualization"
      ]
    },
    {
      "cell_type": "markdown",
      "metadata": {
        "id": "MKw6vK4feD6Z",
        "colab_type": "text"
      },
      "source": [
        "##What is Data Visualization\n",
        "\n",
        "Data visualization is the representation of information in the form of a chart, diagram, picture, etc. Visualization is a form of data exploration. We want to graphically represent the data is a way that helps us better understand what's going on."
      ]
    },
    {
      "cell_type": "markdown",
      "metadata": {
        "id": "luj938-0TTb8",
        "colab_type": "text"
      },
      "source": [
        "##First let's import our libraries.\n",
        "* Numpy is a highly optimized library for handling multi-dimensional arrays\n",
        "* Pandas is a library with data manipulation and analysis tools\n",
        "* Matplotlib is a plotting library\n",
        "* Scikit-learn or sklearn is a free machine learning library"
      ]
    },
    {
      "cell_type": "code",
      "metadata": {
        "id": "kZAtFd6mHXqS",
        "colab_type": "code",
        "colab": {}
      },
      "source": [
        "import numpy as np\n",
        "import pandas as pd\n",
        "import matplotlib.pyplot as plt\n",
        "import sklearn"
      ],
      "execution_count": 0,
      "outputs": []
    },
    {
      "cell_type": "markdown",
      "metadata": {
        "id": "aVfmW_vWSP1C",
        "colab_type": "text"
      },
      "source": [
        "We won't be using this library right now but some libraries like Seaborn have datasets that you can load with a function. Let's take a look at what seaborn has."
      ]
    },
    {
      "cell_type": "code",
      "metadata": {
        "id": "vJhbLbKObTW9",
        "colab_type": "code",
        "colab": {}
      },
      "source": [
        "import seaborn as sns\n",
        "sns.get_dataset_names()\n",
        "#sns.load_dataset('iris')"
      ],
      "execution_count": 0,
      "outputs": []
    },
    {
      "cell_type": "markdown",
      "metadata": {
        "id": "km-8FlfM6lKx",
        "colab_type": "text"
      },
      "source": [
        "##Basics of Plotting\n",
        "Pandas comes with some basic plotting functions built into it's dataframe types."
      ]
    },
    {
      "cell_type": "markdown",
      "metadata": {
        "id": "PQ2GISoz68Ue",
        "colab_type": "text"
      },
      "source": [
        "##Line Graphs"
      ]
    },
    {
      "cell_type": "code",
      "metadata": {
        "id": "B0k0nCsU67MS",
        "colab_type": "code",
        "colab": {}
      },
      "source": [
        "x_1 = np.arange(100)\n",
        "x_2 = x_1 * 4.0 + 100.0\n",
        "x_3 = (x_1 ** 2)/16\n",
        "\n",
        "data = pd.DataFrame({'X1':x_1, 'X2':x_2, 'X3':x_3})\n",
        "data.plot.line()"
      ],
      "execution_count": 0,
      "outputs": []
    },
    {
      "cell_type": "markdown",
      "metadata": {
        "id": "cSFr9bJ9z_0Q",
        "colab_type": "text"
      },
      "source": [
        "##XKCD\n",
        "Just for fun, matplotlib allows us to make these graphs in XKCD style. "
      ]
    },
    {
      "cell_type": "code",
      "metadata": {
        "id": "3T5yGnWGoFKm",
        "colab_type": "code",
        "colab": {}
      },
      "source": [
        "with plt.xkcd():\n",
        "    data.plot.line()"
      ],
      "execution_count": 0,
      "outputs": []
    },
    {
      "cell_type": "markdown",
      "metadata": {
        "id": "xT5E5bm0tooX",
        "colab_type": "text"
      },
      "source": [
        "##Bar Graph"
      ]
    },
    {
      "cell_type": "code",
      "metadata": {
        "id": "vbmgvP8MtryN",
        "colab_type": "code",
        "colab": {}
      },
      "source": [
        "df = pd.DataFrame({'lab':['A', 'B', 'C'], 'val':[10, 30, 20]})\n",
        "ax = df.plot.bar(x='lab', y='val', rot=0)"
      ],
      "execution_count": 0,
      "outputs": []
    },
    {
      "cell_type": "markdown",
      "metadata": {
        "id": "ydRDSp7hw5Ni",
        "colab_type": "text"
      },
      "source": [
        "##Iris Dataset"
      ]
    },
    {
      "cell_type": "code",
      "metadata": {
        "id": "jCzKxshTLSfN",
        "colab_type": "code",
        "colab": {}
      },
      "source": [
        "iris_data = pd.read_csv('https://gist.githubusercontent.com/curran/a08a1080b88344b0c8a7/raw/639388c2cbc2120a14dcf466e85730eb8be498bb/iris.csv')\n",
        "iris_data.head(10)"
      ],
      "execution_count": 0,
      "outputs": []
    },
    {
      "cell_type": "markdown",
      "metadata": {
        "id": "8YVEJMLlgoUi",
        "colab_type": "text"
      },
      "source": [
        "What does this data tell us just by looking at it?\n",
        "\n",
        "We have:\n",
        "\n",
        "* 4 columns of continuous quantiative data (Sepal Length, Sepal Width, Petal Length, Petal Width)\n",
        "* 1 column of qualitative data (Species)"
      ]
    },
    {
      "cell_type": "markdown",
      "metadata": {
        "id": "p-eqbmvZxUkv",
        "colab_type": "text"
      },
      "source": [
        "We can use the ```unique()``` command on the species column to get an idea of how many different types of species there are."
      ]
    },
    {
      "cell_type": "code",
      "metadata": {
        "id": "Xd8U9ptLgmZU",
        "colab_type": "code",
        "colab": {}
      },
      "source": [
        "iris_data['species'].unique()"
      ],
      "execution_count": 0,
      "outputs": []
    },
    {
      "cell_type": "markdown",
      "metadata": {
        "id": "WNLgGwp1jxia",
        "colab_type": "text"
      },
      "source": [
        "Let's get some basic information about the data using the describe command."
      ]
    },
    {
      "cell_type": "code",
      "metadata": {
        "id": "Tx7lZWh_73iC",
        "colab_type": "code",
        "colab": {}
      },
      "source": [
        "setosa=iris_data[iris_data['species']=='setosa']\n",
        "versicolor =iris_data[iris_data['species']=='versicolor']\n",
        "virginica =iris_data[iris_data['species']=='virginica']\n",
        "\n",
        "print('Dataset Summary')\n",
        "print(iris_data.describe(),'\\n')\n",
        "print('Setosa Summary')\n",
        "print(setosa.describe(),'\\n')\n",
        "print('Versicolor Summary')\n",
        "print(versicolor.describe(),'\\n')\n",
        "print('Virginica Summary')\n",
        "print(virginica.describe())"
      ],
      "execution_count": 0,
      "outputs": []
    },
    {
      "cell_type": "markdown",
      "metadata": {
        "id": "DVxIC7SkjUt2",
        "colab_type": "text"
      },
      "source": [
        "##Box and Whisker Plot\n",
        "We can visualize all this information with a box and whisker plot."
      ]
    },
    {
      "cell_type": "markdown",
      "metadata": {
        "id": "VpzotwqswErc",
        "colab_type": "text"
      },
      "source": [
        "Note here we can use the matplotlib library to help us better visualize the pandas plots."
      ]
    },
    {
      "cell_type": "code",
      "metadata": {
        "id": "JxQ3VY-Eh7Ci",
        "colab_type": "code",
        "colab": {}
      },
      "source": [
        "fig,ax=plt.subplots(1,3,figsize=(20, 10))\n",
        "setosa.boxplot(ax=ax[0]).set_title('Setosa')\n",
        "versicolor.boxplot(ax=ax[1]).set_title('Versicolor')\n",
        "virginica.boxplot(ax=ax[2]).set_title('Virginica')"
      ],
      "execution_count": 0,
      "outputs": []
    },
    {
      "cell_type": "markdown",
      "metadata": {
        "id": "fNhXDelK3RrG",
        "colab_type": "text"
      },
      "source": [
        "IQR (Inner Quartile Range)\n",
        "\n",
        "If a point is 1.5 * IQR (Interquartile Range) from either Q1 for low numbers or Q3 for large numbers, then it is shown as a dot or an outlier.\n",
        "\n",
        "<center><img src=https://www.statisticshowto.datasciencecentral.com/wp-content/uploads/2012/03/iqr.jpg></center>"
      ]
    },
    {
      "cell_type": "markdown",
      "metadata": {
        "id": "e5McW-yIyfOA",
        "colab_type": "text"
      },
      "source": [
        "##Histograms\n",
        "A histogram shows amount of data that falls between points in the range. This is good for showing the distribution of the data. "
      ]
    },
    {
      "cell_type": "code",
      "metadata": {
        "id": "t3eQjF0L5byV",
        "colab_type": "code",
        "colab": {}
      },
      "source": [
        "fig,ax=plt.subplots(1,4,figsize=(25, 5))\n",
        "iris_data['sepal_length'].plot.hist(ax=ax[0], title='Sepal Length')\n",
        "iris_data['sepal_width'].plot.hist(ax=ax[1], title='Sepal Width')\n",
        "iris_data['petal_length'].plot.hist(ax=ax[2], title='Petal Length')\n",
        "iris_data['petal_width'].plot.hist(ax=ax[3], title='Petal Width')"
      ],
      "execution_count": 0,
      "outputs": []
    },
    {
      "cell_type": "markdown",
      "metadata": {
        "id": "V7TQ6sWN46lC",
        "colab_type": "text"
      },
      "source": [
        "##Scatter Plot"
      ]
    },
    {
      "cell_type": "code",
      "metadata": {
        "id": "I6BGq6ejmnLV",
        "colab_type": "code",
        "colab": {}
      },
      "source": [
        "iris_data.plot.scatter(x='sepal_length',y='sepal_width')"
      ],
      "execution_count": 0,
      "outputs": []
    },
    {
      "cell_type": "markdown",
      "metadata": {
        "id": "FAMRTN2C5nS8",
        "colab_type": "text"
      },
      "source": [
        "There's a very obvious issue with this type of graph. We have 4 features that can be plotted on a scatter plot but only 2 can be shown on this type of scatter plot. What can we do?"
      ]
    },
    {
      "cell_type": "code",
      "metadata": {
        "id": "xlj1s9Y4gByJ",
        "colab_type": "code",
        "colab": {}
      },
      "source": [
        "iris_data.plot.scatter(x='sepal_length', y='sepal_width',c='petal_length', colormap='viridis')"
      ],
      "execution_count": 0,
      "outputs": []
    },
    {
      "cell_type": "markdown",
      "metadata": {
        "id": "EgycjbHRv7vU",
        "colab_type": "text"
      },
      "source": [
        "We could create a 3D plot of the data. To do that we'll need another library. If you get time you can explore it some on your own. Just enter the code below to import the functions you'll need and check out the matplotlib toolkit at https://matplotlib.org/mpl_toolkits/index.html"
      ]
    },
    {
      "cell_type": "code",
      "metadata": {
        "id": "Em8A_RTsuuxq",
        "colab_type": "code",
        "colab": {}
      },
      "source": [
        "# from mpl_toolkits.mplot3d import Axes3D"
      ],
      "execution_count": 0,
      "outputs": []
    },
    {
      "cell_type": "markdown",
      "metadata": {
        "id": "FpYzjC1MwkDk",
        "colab_type": "text"
      },
      "source": [
        "##More Scatter Plots\n",
        "\n",
        "There's still a problem if we were to visualize the data on a 3D plot. We have 4 features so we'd have to exclude one. Instead we could get a view of every feature against each other. "
      ]
    },
    {
      "cell_type": "code",
      "metadata": {
        "id": "GJaoVuc5Z__s",
        "colab_type": "code",
        "colab": {}
      },
      "source": [
        "features = iris_data.columns[:-1]\n",
        "plt.figure()\n",
        "fig,ax=plt.subplots(4,4,figsize=(17, 17))\n",
        "for label_count1, label1 in enumerate(features):\n",
        "  for label_count2, label2 in enumerate(features):\n",
        "    iris_data.plot.scatter(x=label1, y=label2, ax=ax[label_count1,label_count2])"
      ],
      "execution_count": 0,
      "outputs": []
    },
    {
      "cell_type": "markdown",
      "metadata": {
        "id": "A2J-vBJsw4cJ",
        "colab_type": "text"
      },
      "source": [
        "What do you notice about the graphs? \n",
        "\n",
        "* Some of them look like they're just lines. Those are features plotted against themselves (i.e. Petal Width and Petal Width)\n",
        "\n",
        "* Some of the plot look similar. The graphs on the top right are just flipped versions of the graphs on the bottom left"
      ]
    },
    {
      "cell_type": "markdown",
      "metadata": {
        "id": "65oVA4GFxxWv",
        "colab_type": "text"
      },
      "source": [
        "We can get more information from these graphs if we separate them into their types."
      ]
    },
    {
      "cell_type": "code",
      "metadata": {
        "colab_type": "code",
        "id": "9CB7dZiMpBgd",
        "colab": {}
      },
      "source": [
        "features = iris_data.columns[:-1]\n",
        "plt.figure()\n",
        "fig,ax=plt.subplots(4,4,figsize=(17, 17))\n",
        "for label_count1, label1 in enumerate(features):\n",
        "  for label_count2, label2 in enumerate(features):\n",
        "    setosa.plot.scatter(x=label1, y=label2, label='setosa', ax=ax[label_count1,label_count2], color='red')\n",
        "    versicolor.plot.scatter(x=label1, y=label2, label='versicolor', ax=ax[label_count1,label_count2], color='green')\n",
        "    virginica.plot.scatter(x=label1, y=label2, label='virginica', ax=ax[label_count1,label_count2], color='blue')\n",
        "    ax[label_count1,label_count2].legend()"
      ],
      "execution_count": 0,
      "outputs": []
    },
    {
      "cell_type": "markdown",
      "metadata": {
        "id": "DBrpV4nhzBUH",
        "colab_type": "text"
      },
      "source": [
        "We see a pretty clear separation between Setosa and the other species but the other 2 seem to be closely related."
      ]
    },
    {
      "cell_type": "markdown",
      "metadata": {
        "id": "jDELr0Rz-L0c",
        "colab_type": "text"
      },
      "source": [
        "##Heat Map\n",
        "We can think of a row of data as a vector. For example row 1 and row 2 of the iris_data is [5.1,\t3.5,\t1.4,\t0.2, 'setosa'] and [4.9,\t3.0,\t1.4,\t0.2,\tsetosa]. If we take just the first 4 features (or columns), we can think of these rows as the vectors [5.1,\t3.5,\t1.4,\t0.2] and [4.9,\t3.0,\t1.4,\t0.2]. We can measure the angle between these 2 vectors to gives a measure of similarity. In this case we are taking the Cosine Similarity.\n",
        "\n",
        "<center><img src='https://www.oreilly.com/library/view/statistics-for-machine/9781788295758/assets/2b4a7a82-ad4c-4b2a-b808-e423a334de6f.png'></center>\n",
        "\n",
        "Taking the cosine similarity will give us a matrix of the pairwise cosine similarity between each row. We can visualizes this using a heat map.\n",
        "\n"
      ]
    },
    {
      "cell_type": "code",
      "metadata": {
        "id": "j0gVjsAQzRIz",
        "colab_type": "code",
        "colab": {}
      },
      "source": [
        "from sklearn.metrics.pairwise import cosine_similarity as CS\n",
        "\n",
        "plt.figure(figsize=(15,15))\n",
        "plt.imshow(CS(iris_data.iloc[:,:-1]), cmap='hot')"
      ],
      "execution_count": 0,
      "outputs": []
    },
    {
      "cell_type": "code",
      "metadata": {
        "id": "05WrEEXSCXKj",
        "colab_type": "code",
        "colab": {}
      },
      "source": [
        "plt.figure(figsize=(15,15))\n",
        "plt.imshow(CS(setosa.iloc[:,:-1], virginica.iloc[:,:-1]), cmap='hot')"
      ],
      "execution_count": 0,
      "outputs": []
    },
    {
      "cell_type": "markdown",
      "metadata": {
        "id": "-Xhjq8XKJz17",
        "colab_type": "text"
      },
      "source": [
        "##K-Means Clutering\n",
        "\n",
        "The K-means algorithm works by randomly placing an assigned number of cluster centers in the search space of your data. Once the clusters centers have been initialized, each data point is assigned to the closest cluster center (Shown as \"Update Cluster Assignments\" below). Then the cluster centers are moved to the centroid of the points that are assigned to the cluster center (Shown as \"Update Cluster Centers\" below). You repeat these last 2 steps until you have a minimal number of changes in cluster reassignments or the max number of iterations is reached.\n",
        "\n",
        "The goal of the alogirthm is to reduce the within cluster sum of squares or interia: \n",
        "\n",
        "<center> $\\sum_{i=0}^{n}\\min_{\\mu_j \\in C}(||x_i - \\mu_j||^2)$ </center>\n",
        "\n",
        "Where $C$ are the clusters, $n$ is the number of samples, $x_i$ is the data points assigned to cluster $i$, and $\\mu_j$ is the cluster center.\n",
        "\n",
        "Sklearn accomplishes this by running the alogirthm multiple times with different random starting points for your cluster centers and picking the best one.\n",
        "\n",
        "\n",
        "<center>!<img src='https://i.imgur.com/k4XcapI.gif'></center>"
      ]
    },
    {
      "cell_type": "code",
      "metadata": {
        "id": "O554Rq7XD-b8",
        "colab_type": "code",
        "colab": {}
      },
      "source": [
        "from sklearn.cluster import KMeans\n",
        "\n",
        "kmeans = KMeans(n_clusters=3)\n",
        "kmeans.fit(iris_data.iloc[:,:4])\n",
        "\n",
        "\n",
        "features = iris_data.columns[:-1]\n",
        "plt.figure()\n",
        "fig,ax=plt.subplots(4,4,figsize=(17, 17))\n",
        "for label_count1, label1 in enumerate(features):\n",
        "  for label_count2, label2 in enumerate(features):\n",
        "    iris_data.plot.scatter(x=label1, y=label2, c=kmeans.labels_, ax=ax[label_count1,label_count2], cmap='viridis')"
      ],
      "execution_count": 0,
      "outputs": []
    },
    {
      "cell_type": "code",
      "metadata": {
        "id": "mXa6wYy2JIj6",
        "colab_type": "code",
        "colab": {}
      },
      "source": [
        "sum_ = 0\n",
        "species = iris_data['species'].unique()\n",
        "for row_num, row in iris_data.iterrows():\n",
        "  if species[kmeans.labels_[row_num]] == row.iloc[-1]:\n",
        "    sum_ += 1\n",
        "    \n",
        "print(str((sum_ / len(iris_data)) * 100) + '%')"
      ],
      "execution_count": 0,
      "outputs": []
    },
    {
      "cell_type": "markdown",
      "metadata": {
        "id": "yxG8PgRMc3We",
        "colab_type": "text"
      },
      "source": [
        "##What if we don't know how many clusters we need?\n",
        "\n",
        "There's a couple different methods of determining the number of clusters needed for the K-means algorithm:\n",
        "\n",
        "* Gap statistic\n",
        "* Elbow method\n",
        "* Silhouette method\n",
        "\n",
        "Additionally, you can look into the Mean Shift algorithm. \n",
        "\n",
        "Or we could try to look at the data and develop a type of hierarchical structure..."
      ]
    },
    {
      "cell_type": "markdown",
      "metadata": {
        "id": "ATyO9A7uoNbj",
        "colab_type": "text"
      },
      "source": [
        "##Hierarchical Clustering\n",
        "Hierarchical clustering is a general family of clustering algorithms that build nested clusters by merging or splitting them successively. If we were successively merging you could start the algorithm by think of each point as a cluster. The first point is randomly selected and merged based on the linkage you have selected. In the case of centroid, the two points would be merged based on their centroid, then they become a new cluster with a new centroid that can be linked to another cluster. This continues until all points are linked."
      ]
    },
    {
      "cell_type": "code",
      "metadata": {
        "id": "dElSuawxQya2",
        "colab_type": "code",
        "colab": {}
      },
      "source": [
        "from sklearn.cluster import AgglomerativeClustering"
      ],
      "execution_count": 0,
      "outputs": []
    },
    {
      "cell_type": "markdown",
      "metadata": {
        "id": "AcY7ajJ1YpY-",
        "colab_type": "text"
      },
      "source": [
        "\n",
        "\n",
        "Linkage:\n",
        "\n",
        "* Single - Links points with the shortest within cluster distance\n",
        "* Complete - Links points with the greatest within cluster distance\n",
        "* Average - Links average within cluster distance\n",
        "* Centroid - Links to the minimum cluster centroid distance\n",
        "* Median - Links to the minimum cluster median\n",
        "* Ward - Uses the Ward variance minimization algorithm\n",
        "\n",
        "<center><img src='https://scikit-learn.org/stable/_images/sphx_glr_plot_linkage_comparison_0011.png' height=500 width=500> </center>"
      ]
    },
    {
      "cell_type": "code",
      "metadata": {
        "id": "2c-4QgCyQ09u",
        "colab_type": "code",
        "colab": {}
      },
      "source": [
        "cluster = AgglomerativeClustering(linkage='average')\n",
        "cluster.fit(iris_data.iloc[:,:4])\n",
        "cluster.labels_\n",
        "\n",
        "features = iris_data.columns[:-1]\n",
        "plt.figure()\n",
        "fig,ax=plt.subplots(4,4,figsize=(17, 17))\n",
        "for label_count1, label1 in enumerate(features):\n",
        "  for label_count2, label2 in enumerate(features):\n",
        "    iris_data.plot.scatter(x=label1, y=label2, c=cluster.labels_, ax=ax[label_count1,label_count2], cmap='viridis')"
      ],
      "execution_count": 0,
      "outputs": []
    },
    {
      "cell_type": "markdown",
      "metadata": {
        "id": "P8_7KYPTiGls",
        "colab_type": "text"
      },
      "source": [
        "Notice that this type of clustering only recognized 2 clusters. We know that there are 3 distinct types but that's not always obvious when we look at data without labels. "
      ]
    },
    {
      "cell_type": "markdown",
      "metadata": {
        "id": "K4pvxZwhiZdF",
        "colab_type": "text"
      },
      "source": [
        "##Dendrogram\n",
        "We can view the hierarchy created by our algorithm using a dendrogram. This shows which clusters were linked to each other. The higher up the dendrogram we go, the greater the value of the linkage that we've selected."
      ]
    },
    {
      "cell_type": "markdown",
      "metadata": {
        "id": "6QzDznNEWZW5",
        "colab_type": "text"
      },
      "source": [
        "New library:\n",
        "\n",
        "* Scipy is a Python-based ecosystem of open-source software for mathematics, science, and engineering"
      ]
    },
    {
      "cell_type": "code",
      "metadata": {
        "id": "ItizcrnWSGaQ",
        "colab_type": "code",
        "colab": {}
      },
      "source": [
        "from scipy.cluster.hierarchy import dendrogram, linkage\n",
        "\n",
        "plt.figure(figsize=(25,10))\n",
        "link = linkage(iris_data.iloc[:,:4], 'average')\n",
        "dendrogram(link)\n",
        "plt.show()"
      ],
      "execution_count": 0,
      "outputs": []
    },
    {
      "cell_type": "markdown",
      "metadata": {
        "id": "ErVcbI0vklMX",
        "colab_type": "text"
      },
      "source": [
        "##PCA\n",
        "\n",
        "Is there a better way to visualizehigh dimensional data? The answer is yes... kind of... PCA or Principal Component Analysis allows us to view any dimensional data in 1, 2 or 3 dimensions. In 2 dimensions it can be thought of as rotating an imaginary axis about the origin until we minimize our Sum of Squared Distances. If we wanted to reduce this data from 2 dimensions to 1, we would project all our points onto this axis. Same idea from 3 dimensions to 2 or 4 to 3 or 128 to 2. \n",
        "\n",
        "<center><img src='https://thumbs.gfycat.com/AnchoredDisloyalCanine-size_restricted.gif' height=400 width=500></center>\n",
        "\n",
        "Note: Information is lost during this processes but PCA to find the optimal axes to describe your data without lossing too much information. "
      ]
    },
    {
      "cell_type": "code",
      "metadata": {
        "id": "F6B5Cz0epruJ",
        "colab_type": "code",
        "colab": {}
      },
      "source": [
        "from sklearn import decomposition\n",
        "\n",
        "pca = decomposition.PCA(n_components=2)\n",
        "pca.fit(iris_data.iloc[:,:4])\n",
        "new_iris = pca.transform(iris_data.iloc[:,:4])\n",
        "new_iris = pd.DataFrame({'Feature 1':new_iris[:,0],'Feature 2':new_iris[:,1]})\n",
        "\n",
        "features = new_iris.columns\n",
        "plt.figure()\n",
        "fig,ax=plt.subplots(2,2,figsize=(17, 17))\n",
        "for label_count1, label1 in enumerate(features):\n",
        "  for label_count2, label2 in enumerate(features):\n",
        "    new_iris.plot.scatter(x=label1, y=label2, ax=ax[label_count1,label_count2] )"
      ],
      "execution_count": 0,
      "outputs": []
    },
    {
      "cell_type": "code",
      "metadata": {
        "id": "pf430zqmuMEz",
        "colab_type": "code",
        "colab": {}
      },
      "source": [
        "from sklearn.manifold import TSNE\n",
        "\n",
        "new_iris = TSNE(n_components=3).fit_transform(iris_data.iloc[:,:-1])\n",
        "new_iris.shape\n",
        "\n",
        "new_iris = pd.DataFrame({'Feature 1':new_iris[:,0],'Feature 2':new_iris[:,1],'Feature 3':new_iris[:,2]})\n",
        "\n",
        "features = new_iris.columns\n",
        "plt.figure()\n",
        "fig,ax=plt.subplots(3,3,figsize=(17, 17))\n",
        "for label_count1, label1 in enumerate(features):\n",
        "  for label_count2, label2 in enumerate(features):\n",
        "    new_iris.plot.scatter(x=label1, y=label2, ax=ax[label_count1,label_count2] )"
      ],
      "execution_count": 0,
      "outputs": []
    },
    {
      "cell_type": "code",
      "metadata": {
        "id": "XTBfjl5jYcVO",
        "colab_type": "code",
        "colab": {}
      },
      "source": [
        "win_loss_data = pd.read_csv('https://raw.githubusercontent.com/vkrit/data-science-class/master/WA_Fn-UseC_-Sales-Win-Loss.csv')\n",
        "win_loss_data"
      ],
      "execution_count": 0,
      "outputs": []
    },
    {
      "cell_type": "code",
      "metadata": {
        "id": "6N-3uq89lieQ",
        "colab_type": "code",
        "colab": {}
      },
      "source": [
        "(win_loss_data['Supplies Subgroup'].value_counts()/ len(win_loss_data)).plot.bar()"
      ],
      "execution_count": 0,
      "outputs": []
    },
    {
      "cell_type": "code",
      "metadata": {
        "id": "TzPxikLZnSQG",
        "colab_type": "code",
        "colab": {}
      },
      "source": [
        "win_loss_data['Ratio Days Validated To Total Days'].value_counts().plot.bar()"
      ],
      "execution_count": 0,
      "outputs": []
    }
  ]
}